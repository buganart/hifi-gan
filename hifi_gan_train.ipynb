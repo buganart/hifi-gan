{
  "nbformat": 4,
  "nbformat_minor": 0,
  "metadata": {
    "colab": {
      "name": "hifi-gan-train.ipynb",
      "provenance": [],
      "collapsed_sections": [],
      "machine_shape": "hm",
      "include_colab_link": true
    },
    "kernelspec": {
      "name": "python3",
      "display_name": "Python 3"
    },
    "accelerator": "GPU"
  },
  "cells": [
    {
      "cell_type": "markdown",
      "metadata": {
        "id": "view-in-github",
        "colab_type": "text"
      },
      "source": [
        "<a href=\"https://colab.research.google.com/github/buganart/hifi-gan/blob/master/hifi_gan_train.ipynb\" target=\"_parent\"><img src=\"https://colab.research.google.com/assets/colab-badge.svg\" alt=\"Open In Colab\"/></a>"
      ]
    },
    {
      "cell_type": "code",
      "metadata": {
        "id": "jbp-CL5ijb4e",
        "cellView": "form"
      },
      "source": [
        "#@markdown Before starting please save the notebook in your drive by clicking on `File -> Save a copy in drive`"
      ],
      "execution_count": null,
      "outputs": []
    },
    {
      "cell_type": "code",
      "metadata": {
        "id": "XQ-pH7tyK9xW",
        "cellView": "form"
      },
      "source": [
        "#@markdown Check GPU, should be a Tesla V100\n",
        "!nvidia-smi -L\n",
        "import os\n",
        "print(f\"We have {os.cpu_count()} CPU cores.\")"
      ],
      "execution_count": null,
      "outputs": []
    },
    {
      "cell_type": "code",
      "metadata": {
        "id": "BJyxzcLOhgWY",
        "cellView": "form"
      },
      "source": [
        "#@markdown Mount google drive\n",
        "from google.colab import drive\n",
        "from google.colab import output\n",
        "drive.mount('/content/drive')\n",
        "\n",
        "from pathlib import Path\n",
        "if not Path(\"/content/drive/My Drive/IRCMS_GAN_collaborative_database\").exists():\n",
        "    raise RuntimeError(\n",
        "        \"Shortcut to our shared drive folder doesn't exits.\\n\\n\"\n",
        "        \"\\t1. Go to the google drive web UI\\n\"\n",
        "        \"\\t2. Right click shared folder IRCMS_GAN_collaborative_database and click \\\"Add shortcut to Drive\\\"\"\n",
        "    )\n",
        "\n",
        "def clear_on_success(msg=\"Ok!\"):\n",
        "    if _exit_code == 0:\n",
        "        output.clear()\n",
        "        print(msg)"
      ],
      "execution_count": null,
      "outputs": []
    },
    {
      "cell_type": "code",
      "metadata": {
        "id": "9-L3BlfGTfbJ",
        "cellView": "form"
      },
      "source": [
        "#@markdown Install wandb and log in\n",
        "%pip install wandb\n",
        "output.clear()\n",
        "import wandb\n",
        "from pathlib import Path\n",
        "wandb_drive_netrc_path = Path(\"drive/My Drive/colab/.netrc\")\n",
        "wandb_local_netrc_path = Path(\"/root/.netrc\")\n",
        "if wandb_drive_netrc_path.exists():\n",
        "    import shutil\n",
        "\n",
        "    print(\"Wandb .netrc file found, will use that to log in.\")\n",
        "    shutil.copy(wandb_drive_netrc_path, wandb_local_netrc_path)\n",
        "else:\n",
        "    print(\n",
        "        f\"Wandb config not found at {wandb_drive_netrc_path}.\\n\"\n",
        "        f\"Using manual login.\\n\\n\"\n",
        "        f\"To use auto login in the future, finish the manual login first and then run:\\n\\n\"\n",
        "        f\"\\t!mkdir -p '{wandb_drive_netrc_path.parent}'\\n\"\n",
        "        f\"\\t!cp {wandb_local_netrc_path} '{wandb_drive_netrc_path}'\\n\\n\"\n",
        "        f\"Then that file will be used to login next time.\\n\"\n",
        "    )\n",
        "\n",
        "!wandb login\n",
        "output.clear()\n",
        "print(\"ok!\")"
      ],
      "execution_count": null,
      "outputs": []
    },
    {
      "cell_type": "markdown",
      "metadata": {
        "id": "ebxxv9zGTic1"
      },
      "source": [
        "# Description\n",
        "\n"
      ]
    },
    {
      "cell_type": "code",
      "metadata": {
        "id": "BVjGm8m_q9R6",
        "cellView": "form"
      },
      "source": [
        "#@title Configuration\n",
        "\n",
        "#@markdown Directories can be found via file explorer on the left by navigating into `drive` to the desired folders. \n",
        "#@markdown Then right-click and `Copy path`.\n",
        "# audio_db_dir = \"/content/drive/My Drive/AUDIO DATABASE/RAW Sessions/Roberto Studio Material\" #@param {type:\"string\"}\n",
        "audio_db_dir = \"/content/drive/MyDrive/AUDIO DATABASE/CAGE_ONE6/22.5/\" #@param {type:\"string\"}\n",
        "experiment_dir = \"/content/drive/My Drive/IRCMS_GAN_collaborative_database/Experiments/colab-violingan/melgan\" #@param {type:\"string\"}\n",
        "output_dir = \"/content/drive/My Drive/IRCMS_GAN_collaborative_database/Experiments/colab-violingan/melgan-outputs\" #@param {type:\"string\"}\n",
        "\n",
        "#@markdown ### Resumption of previous runs\n",
        "#@markdown Optional resumption arguments below, leaving both empty will start a new run from scratch. \n",
        "#@markdown - The ID can be found on wandb. \n",
        "#@markdown - It's 8 characters long and may contain a-z letters and digits (for example `1t212ycn`).\n",
        "\n",
        "#@markdown Resume a previous run \n",
        "resume_run_id = \"\" #@param {type:\"string\"}\n",
        "\n",
        "#@markdown train argument\n",
        "epochs = 3000 #@param {type: \"integer\"}\n",
        "summary_interval = 10 #@param {type: \"integer\"}\n",
        "checkpoint_interval = 1000 #@param {type: \"integer\"}\n",
        "validation_interval =  500#@param {type: \"integer\"}\n",
        "\n",
        "import re\n",
        "from pathlib import Path\n",
        "\n",
        "audio_db_dir = Path(audio_db_dir)\n",
        "output_dir = Path(output_dir)\n",
        "experiment_dir = Path(experiment_dir)\n",
        "\n",
        "\n",
        "for path in [experiment_dir, output_dir]:\n",
        "    path.mkdir(parents=True, exist_ok=True)\n",
        "\n",
        "if not audio_db_dir.exists():\n",
        "    raise RuntimeError(f\"audio_db_dir {audio_db_dir} does not exists.\")\n",
        "\n",
        "def check_wandb_id(run_id):\n",
        "    if run_id and not re.match(r\"^[\\da-z]{8}$\", run_id):\n",
        "        raise RuntimeError(\n",
        "            \"Run ID needs to be 8 characters long and contain only letters a-z and digits.\\n\"\n",
        "            f\"Got \\\"{run_id}\\\"\"\n",
        "        )\n",
        "\n",
        "check_wandb_id(resume_run_id)"
      ],
      "execution_count": null,
      "outputs": []
    },
    {
      "cell_type": "code",
      "metadata": {
        "id": "a-alV0dJScby"
      },
      "source": [
        "#@title custom config file / optional arguments\n",
        "import json\n",
        "config = {\n",
        "    \"resblock\": \"1\",\n",
        "    \"num_gpus\": 0,\n",
        "    \"batch_size\": 16,\n",
        "    \"learning_rate\": 0.0002,\n",
        "    \"adam_b1\": 0.8,\n",
        "    \"adam_b2\": 0.99,\n",
        "    \"lr_decay\": 0.999,\n",
        "    \"seed\": 1234,\n",
        "\n",
        "    \"upsample_rates\": [8,8,2,2],\n",
        "    \"upsample_kernel_sizes\": [16,16,4,4],\n",
        "    \"upsample_initial_channel\": 512,\n",
        "    \"resblock_kernel_sizes\": [3,7,11],\n",
        "    \"resblock_dilation_sizes\": [[1,3,5], [1,3,5], [1,3,5]],\n",
        "\n",
        "    \"segment_size\": 8192,\n",
        "    \"num_mels\": 80,\n",
        "    \"num_freq\": 1025,\n",
        "    \"n_fft\": 1024,\n",
        "    \"hop_size\": 256,\n",
        "    \"win_size\": 1024,\n",
        "\n",
        "    \"sampling_rate\": 22050,\n",
        "\n",
        "    \"fmin\": 0,\n",
        "    \"fmax\": 8000,\n",
        "    \"fmax_for_loss\": None,\n",
        "\n",
        "    \"num_workers\": 4,\n",
        "\n",
        "    \"dist_config\": {\n",
        "        \"dist_backend\": \"nccl\",\n",
        "        \"dist_url\": \"tcp://localhost:54321\",\n",
        "        \"world_size\": 1\n",
        "    }\n",
        "}\n",
        "\n",
        "config_string = json.dumps(config)\n",
        "# replace char \" to \\\" for argument parser\n",
        "config_string = config_string.replace('\\\"', '\\\\\\\"')"
      ],
      "execution_count": null,
      "outputs": []
    },
    {
      "cell_type": "code",
      "metadata": {
        "id": "pBbbEqNZxngL",
        "cellView": "form"
      },
      "source": [
        "#@title Clone melgan repo\n",
        "\n",
        "!git clone https://github.com/buganart/hifi-gan"
      ],
      "execution_count": null,
      "outputs": []
    },
    {
      "cell_type": "code",
      "metadata": {
        "id": "p1AnyVoom4td",
        "cellView": "form"
      },
      "source": [
        "#@title Install Dependencies\n",
        "\n",
        "%cd /content/hifi-gan\n",
        "%pip install -r requirements.txt\n",
        "clear_on_success(\"Dependencies installed.\")"
      ],
      "execution_count": null,
      "outputs": []
    },
    {
      "cell_type": "code",
      "metadata": {
        "id": "yhpa_QpwocrO",
        "cellView": "form"
      },
      "source": [
        "#@title Copy audio files to runtime\n",
        "\n",
        "local_wav_dir = Path(\"/content/wavs/\")\n",
        "!find \"{audio_db_dir}\" -maxdepth 2 -type f | xargs -t -d \"\\n\" -I'%%' -P 10 -n 1 rsync -a '%%' \"$local_wav_dir\"/\n",
        "# clear_on_success(\"All files copied to this runtime.\")\n",
        "print(f\"{audio_db_dir}\")"
      ],
      "execution_count": null,
      "outputs": []
    },
    {
      "cell_type": "code",
      "metadata": {
        "id": "DNA9MpHyNhCU",
        "cellView": "form"
      },
      "source": [
        "#@title Split train/test dataset\n",
        "\n",
        "# os.environ[\"WANDB_MODE\"] = \"dryrun\"\n",
        "!python split_dataset.py --data_path \"$local_wav_dir\"\n",
        "\n",
        "train_files = Path(local_wav_dir) / \"train_files.txt\"\n",
        "test_files = Path(local_wav_dir) / \"test_files.txt\"\n",
        "\n",
        "print(\"TRAIN FILES\")\n",
        "!head -n3 \"$train_files\"\n",
        "print('...')\n",
        "!tail -n3 \"$train_files\"\n",
        "\n",
        "print()\n",
        "print(\"TEST FILES\")\n",
        "!head -n3 \"$test_files\"\n",
        "print('...')\n",
        "!tail -n3 \"$test_files\""
      ],
      "execution_count": null,
      "outputs": []
    },
    {
      "cell_type": "code",
      "metadata": {
        "id": "UsD5T5GpolG0",
        "cellView": "form"
      },
      "source": [
        "#@title TRAIN\n",
        "\n",
        "# This done a bit weirdly because setting PYTHONPATH=$PWD removes variables afterwards. A colab bug, maybe.\n",
        "!env PYTHONPATH=\"$(pwd)\" python train.py \\\n",
        "--training_epochs \"$epochs\" \\\n",
        "--summary_interval \"$summary_interval\" \\\n",
        "--checkpoint_interval \"$checkpoint_interval\" \\\n",
        "--validation_interval \"$validation_interval\" \\\n",
        "--input_wavs_dir \"$audio_db_dir\" \\\n",
        "--resume_run_id \"$resume_run_id\" \\\n",
        "--config_string \"$config_string\"\n"
      ],
      "execution_count": null,
      "outputs": []
    }
  ]
}